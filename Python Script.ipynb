{
 "cells": [
  {
   "cell_type": "code",
   "execution_count": 1,
   "metadata": {},
   "outputs": [],
   "source": [
    "import pandas as pd"
   ]
  },
  {
   "cell_type": "code",
   "execution_count": 2,
   "metadata": {},
   "outputs": [],
   "source": [
    "# === Step 1: Load CSVs ===\n",
    "orders_df = pd.read_csv(\"order_details.csv\")\n",
    "stock_df = pd.read_csv(\"product_stock_levels.csv\")\n"
   ]
  },
  {
   "cell_type": "code",
   "execution_count": 3,
   "metadata": {},
   "outputs": [],
   "source": [
    "# === Step 2: Handle missing quantities ===\n",
    "# Impute missing quantities with median per product (or overall median if not enough data)\n",
    "orders_df['quantity'] = orders_df.groupby('product_id')['quantity'] \\\n",
    "    .transform(lambda x: x.fillna(x.median()))\n",
    "orders_df['quantity'] = orders_df['quantity'].fillna(orders_df['quantity'].median()).astype(int)"
   ]
  },
  {
   "cell_type": "code",
   "execution_count": 4,
   "metadata": {},
   "outputs": [],
   "source": [
    "# === Step 3: Parse datetime columns ===\n",
    "orders_df['order_timestamp'] = pd.to_datetime(orders_df['order_timestamp'])\n",
    "stock_df['timestamp'] = pd.to_datetime(stock_df['timestamp'])"
   ]
  },
  {
   "cell_type": "code",
   "execution_count": 5,
   "metadata": {},
   "outputs": [],
   "source": [
    "# === Step 4: Sort stock data for lookup ===\n",
    "stock_df = stock_df.sort_values(by=['product_id', 'timestamp'])"
   ]
  },
  {
   "cell_type": "code",
   "execution_count": 6,
   "metadata": {},
   "outputs": [],
   "source": [
    "# === Step 5: Define function to get latest stock level at order time ===\n",
    "def get_latest_stock(product_id, order_time):\n",
    "    product_stock = stock_df[(stock_df['product_id'] == product_id) &\n",
    "                             (stock_df['timestamp'] <= order_time)]\n",
    "    if not product_stock.empty:\n",
    "        return product_stock.iloc[-1]['stock_level']\n",
    "    else:\n",
    "        return None  # If no prior stock info is found"
   ]
  },
  {
   "cell_type": "code",
   "execution_count": 7,
   "metadata": {},
   "outputs": [],
   "source": [
    "# === Step 6: Apply enrichment ===\n",
    "orders_df['stock_level_at_order_time'] = orders_df.apply(\n",
    "    lambda row: get_latest_stock(row['product_id'], row['order_timestamp']),\n",
    "    axis=1\n",
    ")"
   ]
  },
  {
   "cell_type": "code",
   "execution_count": 9,
   "metadata": {},
   "outputs": [
    {
     "name": "stdout",
     "output_type": "stream",
     "text": [
      "enriched_orders.csv has been created.\n"
     ]
    }
   ],
   "source": [
    "# === Step 7: Export enriched file ===\n",
    "orders_df.to_csv(\"enriched_orders.csv\", index=False)\n",
    "print(\"enriched_orders.csv has been created.\")"
   ]
  }
 ],
 "metadata": {
  "kernelspec": {
   "display_name": "Python 3",
   "language": "python",
   "name": "python3"
  },
  "language_info": {
   "codemirror_mode": {
    "name": "ipython",
    "version": 3
   },
   "file_extension": ".py",
   "mimetype": "text/x-python",
   "name": "python",
   "nbconvert_exporter": "python",
   "pygments_lexer": "ipython3",
   "version": "3.13.0"
  }
 },
 "nbformat": 4,
 "nbformat_minor": 2
}
